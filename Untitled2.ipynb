{
  "nbformat": 4,
  "nbformat_minor": 0,
  "metadata": {
    "colab": {
      "provenance": [],
      "authorship_tag": "ABX9TyMO1/ymMezsvUrUIA90p9zC",
      "include_colab_link": true
    },
    "kernelspec": {
      "name": "python3",
      "display_name": "Python 3"
    },
    "language_info": {
      "name": "python"
    }
  },
  "cells": [
    {
      "cell_type": "markdown",
      "metadata": {
        "id": "view-in-github",
        "colab_type": "text"
      },
      "source": [
        "<a href=\"https://colab.research.google.com/github/Junniyeon/SI-LAB11-JC/blob/main/Untitled2.ipynb\" target=\"_parent\"><img src=\"https://colab.research.google.com/assets/colab-badge.svg\" alt=\"Open In Colab\"/></a>"
      ]
    },
    {
      "cell_type": "code",
      "execution_count": null,
      "metadata": {
        "id": "4RIWLMgjeF5y"
      },
      "outputs": [],
      "source": [
        "def alphabeta(node, alpha, beta, maximizingPlayer):\n",
        "    if node.is_terminal_node():\n",
        "        return node.value\n",
        "\n",
        "    if maximizingPlayer:\n",
        "        value = float('-inf')\n",
        "        for child in node.children:\n",
        "          value = max(value, alphabeta(child, alpha, beta, False))\n",
        "          alpha = max(alpha, value)\n",
        "          if alpha >= beta:\n",
        "            break\n",
        "        return value\n",
        "    else:\n",
        "      value = float('inf')\n",
        "      for child in node.children:\n",
        "        value = min(value, alphabeta(child, alpha, beta, True))\n",
        "        beta = min(beta, value)\n",
        "        if alpha >= beta:\n",
        "          break\n",
        "      return value"
      ]
    },
    {
      "cell_type": "markdown",
      "source": [
        "swegunbdo\n"
      ],
      "metadata": {
        "id": "wiLBbGCsiddv"
      }
    },
    {
      "cell_type": "code",
      "source": [
        "# Clase de Nodo\n",
        "class Node:\n",
        "    def __init__(self, value, children=None):\n",
        "        self.value = value\n",
        "        self.children = children or []\n",
        "\n",
        "    def is_terminal_node(self):\n",
        "        return len(self.children) == 0\n",
        "\n",
        "# Ejemplo de uso\n",
        "root_node = Node(0)\n",
        "child1 = Node(3)\n",
        "child2 = Node(5)\n",
        "child3 = Node(2)\n",
        "root_node.children = [child1, child2, child3]\n",
        "\n",
        "alpha = float('-inf')\n",
        "beta = float('inf')\n",
        "maximizingPlayer = True\n",
        "\n",
        "best_value = alphabeta(root_node, alpha, beta, maximizingPlayer)\n",
        "print(f\"El mejor valor encontrado es: {best_value}\")"
      ],
      "metadata": {
        "colab": {
          "base_uri": "https://localhost:8080/"
        },
        "id": "ORmYL3CzipIq",
        "outputId": "230c21b3-35c6-4579-dee6-d666de441df2"
      },
      "execution_count": null,
      "outputs": [
        {
          "output_type": "stream",
          "name": "stdout",
          "text": [
            "El mejor valor encontrado es: 5\n"
          ]
        }
      ]
    }
  ]
}